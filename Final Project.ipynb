{
 "cells": [
  {
   "cell_type": "markdown",
   "id": "9e3255b4",
   "metadata": {},
   "source": [
    "# Final Project\n"
   ]
  },
  {
   "cell_type": "markdown",
   "id": "1643c0e9",
   "metadata": {},
   "source": [
    "Import the package"
   ]
  },
  {
   "cell_type": "code",
   "execution_count": 123,
   "id": "5024dacd",
   "metadata": {},
   "outputs": [],
   "source": [
    "import pandas as pd\n",
    "import numpy as np\n",
    "\n",
    "import matplotlib.pyplot as plt\n",
    "%matplotlib inline"
   ]
  },
  {
   "cell_type": "code",
   "execution_count": 124,
   "id": "44c2a4c7",
   "metadata": {},
   "outputs": [],
   "source": [
    "import statsmodels.api as sm \n",
    "import statsmodels.formula.api as smf\n",
    "import statsmodels.graphics.api as smg\n",
    "import patsy\n",
    "from scipy import stats"
   ]
  },
  {
   "cell_type": "code",
   "execution_count": 304,
   "id": "3f2fd689",
   "metadata": {},
   "outputs": [
    {
     "name": "stdout",
     "output_type": "stream",
     "text": [
      "<class 'pandas.core.frame.DataFrame'>\n",
      "RangeIndex: 1348 entries, 0 to 1347\n",
      "Data columns (total 7 columns):\n",
      " #   Column      Non-Null Count  Dtype  \n",
      "---  ------      --------------  -----  \n",
      " 0   auctionid   1348 non-null   int64  \n",
      " 1   bid         1348 non-null   float64\n",
      " 2   bidtime     1348 non-null   float64\n",
      " 3   bidder      1348 non-null   object \n",
      " 4   bidderrate  1348 non-null   int64  \n",
      " 5   openbid     1348 non-null   float64\n",
      " 6   price       1348 non-null   float64\n",
      "dtypes: float64(4), int64(2), object(1)\n",
      "memory usage: 73.8+ KB\n",
      "None\n"
     ]
    },
    {
     "data": {
      "text/html": [
       "<div>\n",
       "<style scoped>\n",
       "    .dataframe tbody tr th:only-of-type {\n",
       "        vertical-align: middle;\n",
       "    }\n",
       "\n",
       "    .dataframe tbody tr th {\n",
       "        vertical-align: top;\n",
       "    }\n",
       "\n",
       "    .dataframe thead th {\n",
       "        text-align: right;\n",
       "    }\n",
       "</style>\n",
       "<table border=\"1\" class=\"dataframe\">\n",
       "  <thead>\n",
       "    <tr style=\"text-align: right;\">\n",
       "      <th></th>\n",
       "      <th>auctionid</th>\n",
       "      <th>bid</th>\n",
       "      <th>bidtime</th>\n",
       "      <th>bidder</th>\n",
       "      <th>bidderrate</th>\n",
       "      <th>openbid</th>\n",
       "      <th>price</th>\n",
       "    </tr>\n",
       "  </thead>\n",
       "  <tbody>\n",
       "    <tr>\n",
       "      <th>0</th>\n",
       "      <td>1638843936</td>\n",
       "      <td>500.0</td>\n",
       "      <td>0.478368</td>\n",
       "      <td>kona-java</td>\n",
       "      <td>181</td>\n",
       "      <td>500.0</td>\n",
       "      <td>1625.0</td>\n",
       "    </tr>\n",
       "    <tr>\n",
       "      <th>1</th>\n",
       "      <td>1638843936</td>\n",
       "      <td>800.0</td>\n",
       "      <td>0.826389</td>\n",
       "      <td>doc213</td>\n",
       "      <td>60</td>\n",
       "      <td>500.0</td>\n",
       "      <td>1625.0</td>\n",
       "    </tr>\n",
       "    <tr>\n",
       "      <th>2</th>\n",
       "      <td>1638843936</td>\n",
       "      <td>600.0</td>\n",
       "      <td>3.761123</td>\n",
       "      <td>zmxu</td>\n",
       "      <td>7</td>\n",
       "      <td>500.0</td>\n",
       "      <td>1625.0</td>\n",
       "    </tr>\n",
       "    <tr>\n",
       "      <th>3</th>\n",
       "      <td>1638843936</td>\n",
       "      <td>1500.0</td>\n",
       "      <td>5.226377</td>\n",
       "      <td>carloss8055</td>\n",
       "      <td>5</td>\n",
       "      <td>500.0</td>\n",
       "      <td>1625.0</td>\n",
       "    </tr>\n",
       "    <tr>\n",
       "      <th>4</th>\n",
       "      <td>1638843936</td>\n",
       "      <td>1600.0</td>\n",
       "      <td>6.570625</td>\n",
       "      <td>jdrinaz</td>\n",
       "      <td>6</td>\n",
       "      <td>500.0</td>\n",
       "      <td>1625.0</td>\n",
       "    </tr>\n",
       "  </tbody>\n",
       "</table>\n",
       "</div>"
      ],
      "text/plain": [
       "    auctionid     bid   bidtime       bidder  bidderrate  openbid   price\n",
       "0  1638843936   500.0  0.478368    kona-java         181    500.0  1625.0\n",
       "1  1638843936   800.0  0.826389       doc213          60    500.0  1625.0\n",
       "2  1638843936   600.0  3.761123         zmxu           7    500.0  1625.0\n",
       "3  1638843936  1500.0  5.226377  carloss8055           5    500.0  1625.0\n",
       "4  1638843936  1600.0  6.570625      jdrinaz           6    500.0  1625.0"
      ]
     },
     "execution_count": 304,
     "metadata": {},
     "output_type": "execute_result"
    }
   ],
   "source": [
    "Cartier_win = pd.read_csv(\"Cartier+for+WinnersCurse.csv\")\n",
    "print(Cartier_win.info())\n",
    "Cartier_win.head()\n"
   ]
  },
  {
   "cell_type": "code",
   "execution_count": 280,
   "id": "2689f383",
   "metadata": {},
   "outputs": [],
   "source": [
    "# Cartier_win_i = Cartier_win.set_index([\"auctionid\", \"bidtime\"]).sort_index(level=0)\n",
    "# Cartier_win_i.head(10)"
   ]
  },
  {
   "cell_type": "code",
   "execution_count": 116,
   "id": "64846cfc",
   "metadata": {},
   "outputs": [
    {
     "data": {
      "text/html": [
       "<div>\n",
       "<style scoped>\n",
       "    .dataframe tbody tr th:only-of-type {\n",
       "        vertical-align: middle;\n",
       "    }\n",
       "\n",
       "    .dataframe tbody tr th {\n",
       "        vertical-align: top;\n",
       "    }\n",
       "\n",
       "    .dataframe thead th {\n",
       "        text-align: right;\n",
       "    }\n",
       "</style>\n",
       "<table border=\"1\" class=\"dataframe\">\n",
       "  <thead>\n",
       "    <tr style=\"text-align: right;\">\n",
       "      <th></th>\n",
       "      <th>auctionid</th>\n",
       "      <th>bidtime</th>\n",
       "      <th>bid</th>\n",
       "      <th>openbid</th>\n",
       "    </tr>\n",
       "  </thead>\n",
       "  <tbody>\n",
       "    <tr>\n",
       "      <th>0</th>\n",
       "      <td>1638843936</td>\n",
       "      <td>0.478368</td>\n",
       "      <td>500.0</td>\n",
       "      <td>500.0</td>\n",
       "    </tr>\n",
       "    <tr>\n",
       "      <th>1</th>\n",
       "      <td>1638843936</td>\n",
       "      <td>0.826389</td>\n",
       "      <td>800.0</td>\n",
       "      <td>500.0</td>\n",
       "    </tr>\n",
       "    <tr>\n",
       "      <th>2</th>\n",
       "      <td>1638843936</td>\n",
       "      <td>3.761123</td>\n",
       "      <td>600.0</td>\n",
       "      <td>500.0</td>\n",
       "    </tr>\n",
       "    <tr>\n",
       "      <th>3</th>\n",
       "      <td>1638843936</td>\n",
       "      <td>5.226377</td>\n",
       "      <td>1500.0</td>\n",
       "      <td>500.0</td>\n",
       "    </tr>\n",
       "    <tr>\n",
       "      <th>4</th>\n",
       "      <td>1638843936</td>\n",
       "      <td>6.570625</td>\n",
       "      <td>1600.0</td>\n",
       "      <td>500.0</td>\n",
       "    </tr>\n",
       "  </tbody>\n",
       "</table>\n",
       "</div>"
      ],
      "text/plain": [
       "    auctionid   bidtime     bid  openbid\n",
       "0  1638843936  0.478368   500.0    500.0\n",
       "1  1638843936  0.826389   800.0    500.0\n",
       "2  1638843936  3.761123   600.0    500.0\n",
       "3  1638843936  5.226377  1500.0    500.0\n",
       "4  1638843936  6.570625  1600.0    500.0"
      ]
     },
     "execution_count": 116,
     "metadata": {},
     "output_type": "execute_result"
    }
   ],
   "source": [
    "# Create the subdataframe for easier deal\n",
    "Cartier_win_p = Cartier_win[[\"auctionid\", \"bidtime\", \"bid\", \"openbid\"]]\n",
    "Cartier_win_p.head()"
   ]
  },
  {
   "cell_type": "code",
   "execution_count": 279,
   "id": "82b2c891",
   "metadata": {},
   "outputs": [],
   "source": [
    "# Get the number of auction and put auction_id into a list (sort the data)\n",
    "count = Cartier_win[\"auctionid\"].value_counts()\n",
    "aucList = list(count.index)\n"
   ]
  },
  {
   "cell_type": "code",
   "execution_count": 140,
   "id": "9ab2a4e1",
   "metadata": {
    "scrolled": true
   },
   "outputs": [],
   "source": [
    "# Group the dataframe\n",
    "grouped = Cartier_win_p.groupby(Cartier_win_p.auctionid)\n",
    "\n",
    "group = []\n",
    "\n",
    "for g in aucList:\n",
    "    \n",
    "    temp = pd.DataFrame(grouped.get_group(g))\n",
    "    temp = temp.reset_index(drop = True)\n",
    "#     print(g)\n",
    "#     drop_error(temp)\n",
    "\n",
    "    group.append(temp)\n",
    "\n"
   ]
  },
  {
   "cell_type": "code",
   "execution_count": 278,
   "id": "d8c6f253",
   "metadata": {},
   "outputs": [],
   "source": [
    "rs = []\n",
    "for i in group:\n",
    "    data = pd.DataFrame({\"y\": np.log(i.bid), \"x1\": i.bidtime, \"x2\": i.openbid})\n",
    "    \n",
    "    model = smf.ols(\"y ~ x1 + x2+ x1*x2\", data)\n",
    "    result = model.fit()\n",
    "    rs.append(result.rsquared)\n",
    "#     print(result.rsquared)"
   ]
  },
  {
   "cell_type": "code",
   "execution_count": 159,
   "id": "9ce32e01",
   "metadata": {},
   "outputs": [
    {
     "data": {
      "text/plain": [
       "<BarContainer object of 97 artists>"
      ]
     },
     "execution_count": 159,
     "metadata": {},
     "output_type": "execute_result"
    },
    {
     "data": {
      "image/png": "[encoded data removed]",
      "text/plain": [
       "<Figure size 432x288 with 1 Axes>"
      ]
     },
     "metadata": {
      "needs_background": "light"
     },
     "output_type": "display_data"
    }
   ],
   "source": [
    "plt.bar(np.arange(len(rs)), rs)"
   ]
  },
  {
   "cell_type": "code",
   "execution_count": 178,
   "id": "fd2e4f72",
   "metadata": {
    "scrolled": true
   },
   "outputs": [
    {
     "name": "stdout",
     "output_type": "stream",
     "text": [
      "0.3279139864985664\n"
     ]
    },
    {
     "data": {
      "text/html": [
       "<table class=\"simpletable\">\n",
       "<caption>OLS Regression Results</caption>\n",
       "<tr>\n",
       "  <th>Dep. Variable:</th>            <td>y</td>        <th>  R-squared:         </th> <td>   0.328</td> \n",
       "</tr>\n",
       "<tr>\n",
       "  <th>Model:</th>                   <td>OLS</td>       <th>  Adj. R-squared:    </th> <td>   0.327</td> \n",
       "</tr>\n",
       "<tr>\n",
       "  <th>Method:</th>             <td>Least Squares</td>  <th>  F-statistic:       </th> <td>   328.1</td> \n",
       "</tr>\n",
       "<tr>\n",
       "  <th>Date:</th>             <td>Mon, 04 Jul 2022</td> <th>  Prob (F-statistic):</th> <td>8.77e-117</td>\n",
       "</tr>\n",
       "<tr>\n",
       "  <th>Time:</th>                 <td>12:25:04</td>     <th>  Log-Likelihood:    </th> <td> -10396.</td> \n",
       "</tr>\n",
       "<tr>\n",
       "  <th>No. Observations:</th>      <td>  1348</td>      <th>  AIC:               </th> <td>2.080e+04</td>\n",
       "</tr>\n",
       "<tr>\n",
       "  <th>Df Residuals:</th>          <td>  1345</td>      <th>  BIC:               </th> <td>2.081e+04</td>\n",
       "</tr>\n",
       "<tr>\n",
       "  <th>Df Model:</th>              <td>     2</td>      <th>                     </th>     <td> </td>    \n",
       "</tr>\n",
       "<tr>\n",
       "  <th>Covariance Type:</th>      <td>nonrobust</td>    <th>                     </th>     <td> </td>    \n",
       "</tr>\n",
       "</table>\n",
       "<table class=\"simpletable\">\n",
       "<tr>\n",
       "      <td></td>         <th>coef</th>     <th>std err</th>      <th>t</th>      <th>P>|t|</th>  <th>[0.025</th>    <th>0.975]</th>  \n",
       "</tr>\n",
       "<tr>\n",
       "  <th>Intercept</th> <td>  324.2160</td> <td>   27.947</td> <td>   11.601</td> <td> 0.000</td> <td>  269.391</td> <td>  379.041</td>\n",
       "</tr>\n",
       "<tr>\n",
       "  <th>x1</th>        <td>   33.1302</td> <td>    5.983</td> <td>    5.537</td> <td> 0.000</td> <td>   21.392</td> <td>   44.868</td>\n",
       "</tr>\n",
       "<tr>\n",
       "  <th>x2</th>        <td>    0.9527</td> <td>    0.040</td> <td>   23.785</td> <td> 0.000</td> <td>    0.874</td> <td>    1.031</td>\n",
       "</tr>\n",
       "</table>\n",
       "<table class=\"simpletable\">\n",
       "<tr>\n",
       "  <th>Omnibus:</th>       <td>451.227</td> <th>  Durbin-Watson:     </th> <td>   0.257</td> \n",
       "</tr>\n",
       "<tr>\n",
       "  <th>Prob(Omnibus):</th> <td> 0.000</td>  <th>  Jarque-Bera (JB):  </th> <td>1217.806</td> \n",
       "</tr>\n",
       "<tr>\n",
       "  <th>Skew:</th>          <td> 1.769</td>  <th>  Prob(JB):          </th> <td>3.60e-265</td>\n",
       "</tr>\n",
       "<tr>\n",
       "  <th>Kurtosis:</th>      <td> 6.027</td>  <th>  Cond. No.          </th> <td>    773.</td> \n",
       "</tr>\n",
       "</table><br/><br/>Notes:<br/>[1] Standard Errors assume that the covariance matrix of the errors is correctly specified."
      ],
      "text/plain": [
       "<class 'statsmodels.iolib.summary.Summary'>\n",
       "\"\"\"\n",
       "                            OLS Regression Results                            \n",
       "==============================================================================\n",
       "Dep. Variable:                      y   R-squared:                       0.328\n",
       "Model:                            OLS   Adj. R-squared:                  0.327\n",
       "Method:                 Least Squares   F-statistic:                     328.1\n",
       "Date:                Mon, 04 Jul 2022   Prob (F-statistic):          8.77e-117\n",
       "Time:                        12:25:04   Log-Likelihood:                -10396.\n",
       "No. Observations:                1348   AIC:                         2.080e+04\n",
       "Df Residuals:                    1345   BIC:                         2.081e+04\n",
       "Df Model:                           2                                         \n",
       "Covariance Type:            nonrobust                                         \n",
       "==============================================================================\n",
       "                 coef    std err          t      P>|t|      [0.025      0.975]\n",
       "------------------------------------------------------------------------------\n",
       "Intercept    324.2160     27.947     11.601      0.000     269.391     379.041\n",
       "x1            33.1302      5.983      5.537      0.000      21.392      44.868\n",
       "x2             0.9527      0.040     23.785      0.000       0.874       1.031\n",
       "==============================================================================\n",
       "Omnibus:                      451.227   Durbin-Watson:                   0.257\n",
       "Prob(Omnibus):                  0.000   Jarque-Bera (JB):             1217.806\n",
       "Skew:                           1.769   Prob(JB):                    3.60e-265\n",
       "Kurtosis:                       6.027   Cond. No.                         773.\n",
       "==============================================================================\n",
       "\n",
       "Notes:\n",
       "[1] Standard Errors assume that the covariance matrix of the errors is correctly specified.\n",
       "\"\"\""
      ]
     },
     "execution_count": 178,
     "metadata": {},
     "output_type": "execute_result"
    }
   ],
   "source": [
    "data = pd.DataFrame({\"y\": (Cartier_win_p.bid), \"x1\": Cartier_win_p.bidtime, \"x2\": Cartier_win_p.openbid})\n",
    "\n",
    "model = smf.ols(\"y ~ x1 + x2\", data)\n",
    "result = model.fit()\n",
    "\n",
    "print(result.rsquared)\n",
    "result.summary()"
   ]
  },
  {
   "cell_type": "code",
   "execution_count": 179,
   "id": "0fbdf252",
   "metadata": {
    "scrolled": false
   },
   "outputs": [
    {
     "data": {
      "image/png": "[encoded data removed]",
      "text/plain": [
       "<Figure size 576x288 with 1 Axes>"
      ]
     },
     "metadata": {
      "needs_background": "light"
     },
     "output_type": "display_data"
    }
   ],
   "source": [
    "fig, ax = plt.subplots(figsize=(8, 4))\n",
    "smg.qqplot(result.resid, ax=ax)\n",
    "fig.tight_layout()"
   ]
  },
  {
   "cell_type": "code",
   "execution_count": 277,
   "id": "f58dee67",
   "metadata": {},
   "outputs": [],
   "source": [
    "# Draw the line for each group\n",
    "# for i in group:\n",
    "#     i.plot(x = \"bidtime\", y = \"bid\", figsize=(8, 4))\n",
    "# plt.show()"
   ]
  },
  {
   "cell_type": "code",
   "execution_count": null,
   "id": "765033b2",
   "metadata": {},
   "outputs": [],
   "source": []
  },
  {
   "cell_type": "code",
   "execution_count": null,
   "id": "e4f672bf",
   "metadata": {},
   "outputs": [],
   "source": []
  },
  {
   "cell_type": "code",
   "execution_count": null,
   "id": "8dbaa069",
   "metadata": {},
   "outputs": [],
   "source": []
  },
  {
   "cell_type": "code",
   "execution_count": null,
   "id": "7c4f0a19",
   "metadata": {},
   "outputs": [],
   "source": []
  },
  {
   "cell_type": "code",
   "execution_count": null,
   "id": "c2b3a8df",
   "metadata": {},
   "outputs": [],
   "source": []
  },
  {
   "cell_type": "code",
   "execution_count": null,
   "id": "d8481c0f",
   "metadata": {},
   "outputs": [],
   "source": []
  },
  {
   "cell_type": "markdown",
   "id": "6241416b",
   "metadata": {},
   "source": [
    "## 3 Days Auction"
   ]
  },
  {
   "cell_type": "code",
   "execution_count": 260,
   "id": "c9840d86",
   "metadata": {},
   "outputs": [],
   "source": [
    "Cartier_3d = pd.read_csv(\"Cartier+3-day+auctions.csv\")\n",
    "Cartier_3d_i = Cartier_3d.set_index([\"auctionid\", \"bidtime\"]).sort_index(level=0)\n",
    "# Cartier_3d.info()\n",
    "# Cartier_3d_i.head()"
   ]
  },
  {
   "cell_type": "markdown",
   "id": "82b78e67",
   "metadata": {},
   "source": [
    "#### First model: $Y = \\beta_0 + \\beta_1 x_1 + \\beta_2 x_2$, which corresponds to the Patsy formula \"`y ~ x1 + x2`\""
   ]
  },
  {
   "cell_type": "code",
   "execution_count": 290,
   "id": "60d3acd2",
   "metadata": {},
   "outputs": [
    {
     "data": {
      "text/html": [
       "<table class=\"simpletable\">\n",
       "<caption>OLS Regression Results</caption>\n",
       "<tr>\n",
       "  <th>Dep. Variable:</th>            <td>y</td>        <th>  R-squared:         </th> <td>   0.559</td>\n",
       "</tr>\n",
       "<tr>\n",
       "  <th>Model:</th>                   <td>OLS</td>       <th>  Adj. R-squared:    </th> <td>   0.556</td>\n",
       "</tr>\n",
       "<tr>\n",
       "  <th>Method:</th>             <td>Least Squares</td>  <th>  F-statistic:       </th> <td>   156.8</td>\n",
       "</tr>\n",
       "<tr>\n",
       "  <th>Date:</th>             <td>Mon, 04 Jul 2022</td> <th>  Prob (F-statistic):</th> <td>1.09e-44</td>\n",
       "</tr>\n",
       "<tr>\n",
       "  <th>Time:</th>                 <td>13:12:03</td>     <th>  Log-Likelihood:    </th> <td> -2158.7</td>\n",
       "</tr>\n",
       "<tr>\n",
       "  <th>No. Observations:</th>      <td>   250</td>      <th>  AIC:               </th> <td>   4323.</td>\n",
       "</tr>\n",
       "<tr>\n",
       "  <th>Df Residuals:</th>          <td>   247</td>      <th>  BIC:               </th> <td>   4334.</td>\n",
       "</tr>\n",
       "<tr>\n",
       "  <th>Df Model:</th>              <td>     2</td>      <th>                     </th>     <td> </td>   \n",
       "</tr>\n",
       "<tr>\n",
       "  <th>Covariance Type:</th>      <td>nonrobust</td>    <th>                     </th>     <td> </td>   \n",
       "</tr>\n",
       "</table>\n",
       "<table class=\"simpletable\">\n",
       "<tr>\n",
       "      <td></td>         <th>coef</th>     <th>std err</th>      <th>t</th>      <th>P>|t|</th>  <th>[0.025</th>    <th>0.975]</th>  \n",
       "</tr>\n",
       "<tr>\n",
       "  <th>Intercept</th> <td> -169.8927</td> <td>  204.358</td> <td>   -0.831</td> <td> 0.407</td> <td> -572.399</td> <td>  232.613</td>\n",
       "</tr>\n",
       "<tr>\n",
       "  <th>x1</th>        <td>  375.7737</td> <td>   89.100</td> <td>    4.217</td> <td> 0.000</td> <td>  200.281</td> <td>  551.267</td>\n",
       "</tr>\n",
       "<tr>\n",
       "  <th>x2</th>        <td>    6.0631</td> <td>    0.352</td> <td>   17.222</td> <td> 0.000</td> <td>    5.370</td> <td>    6.756</td>\n",
       "</tr>\n",
       "</table>\n",
       "<table class=\"simpletable\">\n",
       "<tr>\n",
       "  <th>Omnibus:</th>       <td>159.132</td> <th>  Durbin-Watson:     </th> <td>   0.187</td> \n",
       "</tr>\n",
       "<tr>\n",
       "  <th>Prob(Omnibus):</th> <td> 0.000</td>  <th>  Jarque-Bera (JB):  </th> <td>1219.009</td> \n",
       "</tr>\n",
       "<tr>\n",
       "  <th>Skew:</th>          <td> 2.524</td>  <th>  Prob(JB):          </th> <td>1.98e-265</td>\n",
       "</tr>\n",
       "<tr>\n",
       "  <th>Kurtosis:</th>      <td>12.568</td>  <th>  Cond. No.          </th> <td>    750.</td> \n",
       "</tr>\n",
       "</table><br/><br/>Notes:<br/>[1] Standard Errors assume that the covariance matrix of the errors is correctly specified."
      ],
      "text/plain": [
       "<class 'statsmodels.iolib.summary.Summary'>\n",
       "\"\"\"\n",
       "                            OLS Regression Results                            \n",
       "==============================================================================\n",
       "Dep. Variable:                      y   R-squared:                       0.559\n",
       "Model:                            OLS   Adj. R-squared:                  0.556\n",
       "Method:                 Least Squares   F-statistic:                     156.8\n",
       "Date:                Mon, 04 Jul 2022   Prob (F-statistic):           1.09e-44\n",
       "Time:                        13:12:03   Log-Likelihood:                -2158.7\n",
       "No. Observations:                 250   AIC:                             4323.\n",
       "Df Residuals:                     247   BIC:                             4334.\n",
       "Df Model:                           2                                         \n",
       "Covariance Type:            nonrobust                                         \n",
       "==============================================================================\n",
       "                 coef    std err          t      P>|t|      [0.025      0.975]\n",
       "------------------------------------------------------------------------------\n",
       "Intercept   -169.8927    204.358     -0.831      0.407    -572.399     232.613\n",
       "x1           375.7737     89.100      4.217      0.000     200.281     551.267\n",
       "x2             6.0631      0.352     17.222      0.000       5.370       6.756\n",
       "==============================================================================\n",
       "Omnibus:                      159.132   Durbin-Watson:                   0.187\n",
       "Prob(Omnibus):                  0.000   Jarque-Bera (JB):             1219.009\n",
       "Skew:                           2.524   Prob(JB):                    1.98e-265\n",
       "Kurtosis:                      12.568   Cond. No.                         750.\n",
       "==============================================================================\n",
       "\n",
       "Notes:\n",
       "[1] Standard Errors assume that the covariance matrix of the errors is correctly specified.\n",
       "\"\"\""
      ]
     },
     "execution_count": 290,
     "metadata": {},
     "output_type": "execute_result"
    }
   ],
   "source": [
    "data = pd.DataFrame({\"y\": (Cartier_3d_p.bid)**1.2, \"x1\": Cartier_3d_p.bidtime, \"x2\": Cartier_3d_p.openbid})\n",
    "\n",
    "model = smf.ols(\"y ~ x1 + x2\", data)\n",
    "Cartier_3d_result = model.fit()\n",
    "Cartier_3d_result.summary()"
   ]
  },
  {
   "cell_type": "markdown",
   "id": "bec90cee",
   "metadata": {},
   "source": [
    "#### 2st model: $Y = \\beta_0 + \\beta_1 x_1 + \\beta_2 x_2 + \\beta_3 x_1 x_2 $"
   ]
  },
  {
   "cell_type": "code",
   "execution_count": 291,
   "id": "7e1f2c7b",
   "metadata": {
    "scrolled": false
   },
   "outputs": [
    {
     "data": {
      "text/html": [
       "<table class=\"simpletable\">\n",
       "<caption>OLS Regression Results</caption>\n",
       "<tr>\n",
       "  <th>Dep. Variable:</th>            <td>y</td>        <th>  R-squared:         </th> <td>   0.563</td>\n",
       "</tr>\n",
       "<tr>\n",
       "  <th>Model:</th>                   <td>OLS</td>       <th>  Adj. R-squared:    </th> <td>   0.557</td>\n",
       "</tr>\n",
       "<tr>\n",
       "  <th>Method:</th>             <td>Least Squares</td>  <th>  F-statistic:       </th> <td>   105.4</td>\n",
       "</tr>\n",
       "<tr>\n",
       "  <th>Date:</th>             <td>Mon, 04 Jul 2022</td> <th>  Prob (F-statistic):</th> <td>6.51e-44</td>\n",
       "</tr>\n",
       "<tr>\n",
       "  <th>Time:</th>                 <td>13:12:09</td>     <th>  Log-Likelihood:    </th> <td> -2157.9</td>\n",
       "</tr>\n",
       "<tr>\n",
       "  <th>No. Observations:</th>      <td>   250</td>      <th>  AIC:               </th> <td>   4324.</td>\n",
       "</tr>\n",
       "<tr>\n",
       "  <th>Df Residuals:</th>          <td>   246</td>      <th>  BIC:               </th> <td>   4338.</td>\n",
       "</tr>\n",
       "<tr>\n",
       "  <th>Df Model:</th>              <td>     3</td>      <th>                     </th>     <td> </td>   \n",
       "</tr>\n",
       "<tr>\n",
       "  <th>Covariance Type:</th>      <td>nonrobust</td>    <th>                     </th>     <td> </td>   \n",
       "</tr>\n",
       "</table>\n",
       "<table class=\"simpletable\">\n",
       "<tr>\n",
       "      <td></td>         <th>coef</th>     <th>std err</th>      <th>t</th>      <th>P>|t|</th>  <th>[0.025</th>    <th>0.975]</th>  \n",
       "</tr>\n",
       "<tr>\n",
       "  <th>Intercept</th> <td>   29.7039</td> <td>  254.158</td> <td>    0.117</td> <td> 0.907</td> <td> -470.899</td> <td>  530.306</td>\n",
       "</tr>\n",
       "<tr>\n",
       "  <th>x1</th>        <td>  282.8709</td> <td>  113.530</td> <td>    2.492</td> <td> 0.013</td> <td>   59.256</td> <td>  506.486</td>\n",
       "</tr>\n",
       "<tr>\n",
       "  <th>x2</th>        <td>    4.8600</td> <td>    0.979</td> <td>    4.966</td> <td> 0.000</td> <td>    2.932</td> <td>    6.788</td>\n",
       "</tr>\n",
       "<tr>\n",
       "  <th>x1:x2</th>     <td>    0.5621</td> <td>    0.427</td> <td>    1.317</td> <td> 0.189</td> <td>   -0.278</td> <td>    1.403</td>\n",
       "</tr>\n",
       "</table>\n",
       "<table class=\"simpletable\">\n",
       "<tr>\n",
       "  <th>Omnibus:</th>       <td>154.355</td> <th>  Durbin-Watson:     </th> <td>   0.193</td> \n",
       "</tr>\n",
       "<tr>\n",
       "  <th>Prob(Omnibus):</th> <td> 0.000</td>  <th>  Jarque-Bera (JB):  </th> <td>1092.444</td> \n",
       "</tr>\n",
       "<tr>\n",
       "  <th>Skew:</th>          <td> 2.461</td>  <th>  Prob(JB):          </th> <td>6.01e-238</td>\n",
       "</tr>\n",
       "<tr>\n",
       "  <th>Kurtosis:</th>      <td>11.981</td>  <th>  Cond. No.          </th> <td>2.31e+03</td> \n",
       "</tr>\n",
       "</table><br/><br/>Notes:<br/>[1] Standard Errors assume that the covariance matrix of the errors is correctly specified.<br/>[2] The condition number is large, 2.31e+03. This might indicate that there are<br/>strong multicollinearity or other numerical problems."
      ],
      "text/plain": [
       "<class 'statsmodels.iolib.summary.Summary'>\n",
       "\"\"\"\n",
       "                            OLS Regression Results                            \n",
       "==============================================================================\n",
       "Dep. Variable:                      y   R-squared:                       0.563\n",
       "Model:                            OLS   Adj. R-squared:                  0.557\n",
       "Method:                 Least Squares   F-statistic:                     105.4\n",
       "Date:                Mon, 04 Jul 2022   Prob (F-statistic):           6.51e-44\n",
       "Time:                        13:12:09   Log-Likelihood:                -2157.9\n",
       "No. Observations:                 250   AIC:                             4324.\n",
       "Df Residuals:                     246   BIC:                             4338.\n",
       "Df Model:                           3                                         \n",
       "Covariance Type:            nonrobust                                         \n",
       "==============================================================================\n",
       "                 coef    std err          t      P>|t|      [0.025      0.975]\n",
       "------------------------------------------------------------------------------\n",
       "Intercept     29.7039    254.158      0.117      0.907    -470.899     530.306\n",
       "x1           282.8709    113.530      2.492      0.013      59.256     506.486\n",
       "x2             4.8600      0.979      4.966      0.000       2.932       6.788\n",
       "x1:x2          0.5621      0.427      1.317      0.189      -0.278       1.403\n",
       "==============================================================================\n",
       "Omnibus:                      154.355   Durbin-Watson:                   0.193\n",
       "Prob(Omnibus):                  0.000   Jarque-Bera (JB):             1092.444\n",
       "Skew:                           2.461   Prob(JB):                    6.01e-238\n",
       "Kurtosis:                      11.981   Cond. No.                     2.31e+03\n",
       "==============================================================================\n",
       "\n",
       "Notes:\n",
       "[1] Standard Errors assume that the covariance matrix of the errors is correctly specified.\n",
       "[2] The condition number is large, 2.31e+03. This might indicate that there are\n",
       "strong multicollinearity or other numerical problems.\n",
       "\"\"\""
      ]
     },
     "execution_count": 291,
     "metadata": {},
     "output_type": "execute_result"
    }
   ],
   "source": [
    "data = pd.DataFrame({\"y\": (Cartier_3d_p.bid)**1.2, \"x1\": Cartier_3d_p.bidtime, \"x2\": Cartier_3d_p.openbid})\n",
    "\n",
    "model = smf.ols(\"y ~ x1 + x2 + x1*x2\", data)\n",
    "Cartier_3d_result = model.fit()\n",
    "Cartier_3d_result.summary()"
   ]
  },
  {
   "cell_type": "code",
   "execution_count": 274,
   "id": "aa4cc429",
   "metadata": {
    "scrolled": false
   },
   "outputs": [
    {
     "data": {
      "image/png": "[encoded data removed]",
      "text/plain": [
       "<Figure size 576x288 with 1 Axes>"
      ]
     },
     "metadata": {
      "needs_background": "light"
     },
     "output_type": "display_data"
    }
   ],
   "source": [
    "fig, ax = plt.subplots(figsize=(8, 4))\n",
    "smg.qqplot(Cartier_3d_result.resid, ax=ax)\n",
    "fig.tight_layout()"
   ]
  },
  {
   "cell_type": "code",
   "execution_count": 292,
   "id": "f8981a38",
   "metadata": {
    "scrolled": false
   },
   "outputs": [
    {
     "data": {
      "text/plain": [
       "Intercept     29.703913\n",
       "x1           282.870913\n",
       "x2             4.859958\n",
       "x1:x2          0.562114\n",
       "dtype: float64"
      ]
     },
     "execution_count": 292,
     "metadata": {},
     "output_type": "execute_result"
    }
   ],
   "source": [
    "Cartier_3d_result.params"
   ]
  },
  {
   "cell_type": "markdown",
   "id": "42412ec6",
   "metadata": {},
   "source": [
    "### Form the test data by another kinds of goods' 3 days auction"
   ]
  },
  {
   "cell_type": "code",
   "execution_count": 303,
   "id": "cd6380df",
   "metadata": {},
   "outputs": [
    {
     "name": "stdout",
     "output_type": "stream",
     "text": [
      "                            OLS Regression Results                            \n",
      "==============================================================================\n",
      "Dep. Variable:                      y   R-squared:                       0.616\n",
      "Model:                            OLS   Adj. R-squared:                  0.615\n",
      "Method:                 Least Squares   F-statistic:                     647.5\n",
      "Date:                Mon, 04 Jul 2022   Prob (F-statistic):          3.86e-251\n",
      "Time:                        13:18:25   Log-Likelihood:                -7748.3\n",
      "No. Observations:                1216   AIC:                         1.550e+04\n",
      "Df Residuals:                    1212   BIC:                         1.552e+04\n",
      "Df Model:                           3                                         \n",
      "Covariance Type:            nonrobust                                         \n",
      "==============================================================================\n",
      "                 coef    std err          t      P>|t|      [0.025      0.975]\n",
      "------------------------------------------------------------------------------\n",
      "Intercept     60.3985      9.967      6.060      0.000      40.844      79.953\n",
      "x1           174.7607      4.975     35.129      0.000     165.000     184.521\n",
      "x2             2.6331      0.222     11.866      0.000       2.198       3.068\n",
      "x1:x2         -0.8257      0.083     -9.933      0.000      -0.989      -0.663\n",
      "==============================================================================\n",
      "Omnibus:                       50.289   Durbin-Watson:                   0.486\n",
      "Prob(Omnibus):                  0.000   Jarque-Bera (JB):               60.755\n",
      "Skew:                           0.444   Prob(JB):                     6.41e-14\n",
      "Kurtosis:                       3.641   Cond. No.                         764.\n",
      "==============================================================================\n",
      "\n",
      "Notes:\n",
      "[1] Standard Errors assume that the covariance matrix of the errors is correctly specified. \n",
      "\n",
      "Intercept     60.398524\n",
      "x1           174.760671\n",
      "x2             2.633117\n",
      "x1:x2         -0.825696\n",
      "dtype: float64\n"
     ]
    }
   ],
   "source": [
    "P3 = pd.read_csv(\"Palm+3-day+auctions.csv\")\n",
    "data = pd.DataFrame({\"y\": (P3.bid)**1.2, \"x1\": P3.bidtime, \"x2\": P3.openbid})\n",
    "\n",
    "model = smf.ols(\"y ~ x1 + x2 + x1*x2\", data)\n",
    "P3_result = model.fit()\n",
    "print(P3_result.summary(),\"\\n\")\n",
    "print(P3_result.params)"
   ]
  },
  {
   "cell_type": "code",
   "execution_count": 300,
   "id": "0c777d39",
   "metadata": {},
   "outputs": [],
   "source": [
    "def y_true(x1, x2):\n",
    "    return P3_result.params[0]  + P3_result.params[1] * x1 + P3_result.params[2] * x2 + P3_result.params[3] * x1 * x2"
   ]
  },
  {
   "cell_type": "code",
   "execution_count": null,
   "id": "569db723",
   "metadata": {},
   "outputs": [],
   "source": []
  },
  {
   "cell_type": "code",
   "execution_count": 301,
   "id": "4a9ad954",
   "metadata": {},
   "outputs": [
    {
     "data": {
      "image/png": "[encoded data removed]",
      "text/plain": [
       "<Figure size 864x360 with 4 Axes>"
      ]
     },
     "metadata": {
      "needs_background": "light"
     },
     "output_type": "display_data"
    }
   ],
   "source": [
    "x = np.linspace(-1, 1, 50)\n",
    "X1, X2 = np.meshgrid(x, x)\n",
    "new_data = pd.DataFrame({\"x1\": X1.ravel(), \"x2\": X2.ravel()}) # ravel returns a contiguous flattened array.\n",
    "y_pred = Cartier_3d_result.predict(new_data)\n",
    "\n",
    "# the result is a vector\n",
    "y_pred.shape\n",
    "\n",
    "# resize the vector to a square matrix\n",
    "y_pred = y_pred.values.reshape(50, 50)\n",
    "\n",
    "# plot the true data and the fitted model\n",
    "fig, axes = plt.subplots(1, 2, figsize=(12, 5), sharey=True)\n",
    "\n",
    "def plot_y_contour(ax, Y, title):\n",
    "    c = ax.contourf(X1, X2, Y, 15, cmap=plt.cm.RdBu)\n",
    "    ax.set_xlabel(r\"$x_1$\", fontsize=20)\n",
    "    ax.set_ylabel(r\"$x_2$\", fontsize=20)\n",
    "    ax.set_title(title)\n",
    "    cb = fig.colorbar(c, ax=ax)\n",
    "    cb.set_label(r\"$y$\", fontsize=20)\n",
    "\n",
    "plot_y_contour(axes[0], y_true(X1, X2), \"true relation\")\n",
    "plot_y_contour(axes[1], y_pred, \"fitted model\")\n",
    "\n",
    "fig.tight_layout()"
   ]
  },
  {
   "cell_type": "code",
   "execution_count": null,
   "id": "46384e66",
   "metadata": {},
   "outputs": [],
   "source": []
  },
  {
   "cell_type": "code",
   "execution_count": null,
   "id": "52e00f0b",
   "metadata": {},
   "outputs": [],
   "source": []
  },
  {
   "cell_type": "code",
   "execution_count": null,
   "id": "920661c6",
   "metadata": {},
   "outputs": [],
   "source": []
  },
  {
   "cell_type": "markdown",
   "id": "e312bb3a",
   "metadata": {},
   "source": [
    "## 5 Days Auction"
   ]
  },
  {
   "cell_type": "code",
   "execution_count": 191,
   "id": "242c7cba",
   "metadata": {
    "scrolled": false
   },
   "outputs": [
    {
     "name": "stdout",
     "output_type": "stream",
     "text": [
      "<class 'pandas.core.frame.DataFrame'>\n",
      "RangeIndex: 355 entries, 0 to 354\n",
      "Data columns (total 7 columns):\n",
      " #   Column      Non-Null Count  Dtype  \n",
      "---  ------      --------------  -----  \n",
      " 0   auctionid   355 non-null    int64  \n",
      " 1   bid         355 non-null    float64\n",
      " 2   bidtime     355 non-null    float64\n",
      " 3   bidder      355 non-null    object \n",
      " 4   bidderrate  355 non-null    int64  \n",
      " 5   openbid     355 non-null    float64\n",
      " 6   price       355 non-null    float64\n",
      "dtypes: float64(4), int64(2), object(1)\n",
      "memory usage: 19.5+ KB\n"
     ]
    },
    {
     "data": {
      "text/html": [
       "<div>\n",
       "<style scoped>\n",
       "    .dataframe tbody tr th:only-of-type {\n",
       "        vertical-align: middle;\n",
       "    }\n",
       "\n",
       "    .dataframe tbody tr th {\n",
       "        vertical-align: top;\n",
       "    }\n",
       "\n",
       "    .dataframe thead th {\n",
       "        text-align: right;\n",
       "    }\n",
       "</style>\n",
       "<table border=\"1\" class=\"dataframe\">\n",
       "  <thead>\n",
       "    <tr style=\"text-align: right;\">\n",
       "      <th></th>\n",
       "      <th></th>\n",
       "      <th>bid</th>\n",
       "      <th>bidder</th>\n",
       "      <th>bidderrate</th>\n",
       "      <th>openbid</th>\n",
       "      <th>price</th>\n",
       "    </tr>\n",
       "    <tr>\n",
       "      <th>auctionid</th>\n",
       "      <th>bidtime</th>\n",
       "      <th></th>\n",
       "      <th></th>\n",
       "      <th></th>\n",
       "      <th></th>\n",
       "      <th></th>\n",
       "    </tr>\n",
       "  </thead>\n",
       "  <tbody>\n",
       "    <tr>\n",
       "      <th rowspan=\"5\" valign=\"top\">1639826019</th>\n",
       "      <th>2.090127</th>\n",
       "      <td>1000.0</td>\n",
       "      <td>talwang</td>\n",
       "      <td>172</td>\n",
       "      <td>899.99</td>\n",
       "      <td>2025.0</td>\n",
       "    </tr>\n",
       "    <tr>\n",
       "      <th>2.355451</th>\n",
       "      <td>926.0</td>\n",
       "      <td>traderpy</td>\n",
       "      <td>2</td>\n",
       "      <td>899.99</td>\n",
       "      <td>2025.0</td>\n",
       "    </tr>\n",
       "    <tr>\n",
       "      <th>2.760602</th>\n",
       "      <td>1150.0</td>\n",
       "      <td>vkns</td>\n",
       "      <td>46</td>\n",
       "      <td>899.99</td>\n",
       "      <td>2025.0</td>\n",
       "    </tr>\n",
       "    <tr>\n",
       "      <th>3.707789</th>\n",
       "      <td>1100.0</td>\n",
       "      <td>lennytartamella</td>\n",
       "      <td>0</td>\n",
       "      <td>899.99</td>\n",
       "      <td>2025.0</td>\n",
       "    </tr>\n",
       "    <tr>\n",
       "      <th>3.708565</th>\n",
       "      <td>1200.0</td>\n",
       "      <td>lennytartamella</td>\n",
       "      <td>0</td>\n",
       "      <td>899.99</td>\n",
       "      <td>2025.0</td>\n",
       "    </tr>\n",
       "  </tbody>\n",
       "</table>\n",
       "</div>"
      ],
      "text/plain": [
       "                        bid           bidder  bidderrate  openbid   price\n",
       "auctionid  bidtime                                                       \n",
       "1639826019 2.090127  1000.0          talwang         172   899.99  2025.0\n",
       "           2.355451   926.0         traderpy           2   899.99  2025.0\n",
       "           2.760602  1150.0             vkns          46   899.99  2025.0\n",
       "           3.707789  1100.0  lennytartamella           0   899.99  2025.0\n",
       "           3.708565  1200.0  lennytartamella           0   899.99  2025.0"
      ]
     },
     "execution_count": 191,
     "metadata": {},
     "output_type": "execute_result"
    }
   ],
   "source": [
    "Cartier_5d = pd.read_csv(\"Cartier+5-day+auctions.csv\")\n",
    "Cartier_5d_i = Cartier_5d.set_index([\"auctionid\", \"bidtime\"]).sort_index(level=0)\n",
    "Cartier_5d.info()\n",
    "Cartier_5d_i.head()"
   ]
  },
  {
   "cell_type": "markdown",
   "id": "f06d541f",
   "metadata": {},
   "source": [
    "#### First model: $Y = \\beta_0 + \\beta_1 x_1 + \\beta_2 x_2$, which corresponds to the Patsy formula \"`y ~ x1 + x2`\""
   ]
  },
  {
   "cell_type": "code",
   "execution_count": 282,
   "id": "0863c2e0",
   "metadata": {
    "scrolled": false
   },
   "outputs": [
    {
     "data": {
      "text/html": [
       "<table class=\"simpletable\">\n",
       "<caption>OLS Regression Results</caption>\n",
       "<tr>\n",
       "  <th>Dep. Variable:</th>            <td>y</td>        <th>  R-squared:         </th> <td>   0.646</td> \n",
       "</tr>\n",
       "<tr>\n",
       "  <th>Model:</th>                   <td>OLS</td>       <th>  Adj. R-squared:    </th> <td>   0.644</td> \n",
       "</tr>\n",
       "<tr>\n",
       "  <th>Method:</th>             <td>Least Squares</td>  <th>  F-statistic:       </th> <td>   320.5</td> \n",
       "</tr>\n",
       "<tr>\n",
       "  <th>Date:</th>             <td>Mon, 04 Jul 2022</td> <th>  Prob (F-statistic):</th> <td>5.34e-80</td> \n",
       "</tr>\n",
       "<tr>\n",
       "  <th>Time:</th>                 <td>12:58:05</td>     <th>  Log-Likelihood:    </th> <td> -9007.9</td> \n",
       "</tr>\n",
       "<tr>\n",
       "  <th>No. Observations:</th>      <td>   355</td>      <th>  AIC:               </th> <td>1.802e+04</td>\n",
       "</tr>\n",
       "<tr>\n",
       "  <th>Df Residuals:</th>          <td>   352</td>      <th>  BIC:               </th> <td>1.803e+04</td>\n",
       "</tr>\n",
       "<tr>\n",
       "  <th>Df Model:</th>              <td>     2</td>      <th>                     </th>     <td> </td>    \n",
       "</tr>\n",
       "<tr>\n",
       "  <th>Covariance Type:</th>      <td>nonrobust</td>    <th>                     </th>     <td> </td>    \n",
       "</tr>\n",
       "</table>\n",
       "<table class=\"simpletable\">\n",
       "<tr>\n",
       "      <td></td>         <th>coef</th>     <th>std err</th>      <th>t</th>      <th>P>|t|</th>  <th>[0.025</th>    <th>0.975]</th>  \n",
       "</tr>\n",
       "<tr>\n",
       "  <th>Intercept</th> <td>  -5.3e+09</td> <td> 2.54e+09</td> <td>   -2.085</td> <td> 0.038</td> <td>-1.03e+10</td> <td>-3.01e+08</td>\n",
       "</tr>\n",
       "<tr>\n",
       "  <th>x1</th>        <td> 2.996e+09</td> <td> 8.02e+08</td> <td>    3.737</td> <td> 0.000</td> <td> 1.42e+09</td> <td> 4.57e+09</td>\n",
       "</tr>\n",
       "<tr>\n",
       "  <th>x2</th>        <td> 8.495e+07</td> <td> 3.72e+06</td> <td>   22.816</td> <td> 0.000</td> <td> 7.76e+07</td> <td> 9.23e+07</td>\n",
       "</tr>\n",
       "</table>\n",
       "<table class=\"simpletable\">\n",
       "<tr>\n",
       "  <th>Omnibus:</th>       <td>89.958</td> <th>  Durbin-Watson:     </th> <td>   0.352</td>\n",
       "</tr>\n",
       "<tr>\n",
       "  <th>Prob(Omnibus):</th> <td> 0.000</td> <th>  Jarque-Bera (JB):  </th> <td> 279.396</td>\n",
       "</tr>\n",
       "<tr>\n",
       "  <th>Skew:</th>          <td> 1.132</td> <th>  Prob(JB):          </th> <td>2.14e-61</td>\n",
       "</tr>\n",
       "<tr>\n",
       "  <th>Kurtosis:</th>      <td> 6.710</td> <th>  Cond. No.          </th> <td>    804.</td>\n",
       "</tr>\n",
       "</table><br/><br/>Notes:<br/>[1] Standard Errors assume that the covariance matrix of the errors is correctly specified."
      ],
      "text/plain": [
       "<class 'statsmodels.iolib.summary.Summary'>\n",
       "\"\"\"\n",
       "                            OLS Regression Results                            \n",
       "==============================================================================\n",
       "Dep. Variable:                      y   R-squared:                       0.646\n",
       "Model:                            OLS   Adj. R-squared:                  0.644\n",
       "Method:                 Least Squares   F-statistic:                     320.5\n",
       "Date:                Mon, 04 Jul 2022   Prob (F-statistic):           5.34e-80\n",
       "Time:                        12:58:05   Log-Likelihood:                -9007.9\n",
       "No. Observations:                 355   AIC:                         1.802e+04\n",
       "Df Residuals:                     352   BIC:                         1.803e+04\n",
       "Df Model:                           2                                         \n",
       "Covariance Type:            nonrobust                                         \n",
       "==============================================================================\n",
       "                 coef    std err          t      P>|t|      [0.025      0.975]\n",
       "------------------------------------------------------------------------------\n",
       "Intercept    -5.3e+09   2.54e+09     -2.085      0.038   -1.03e+10   -3.01e+08\n",
       "x1          2.996e+09   8.02e+08      3.737      0.000    1.42e+09    4.57e+09\n",
       "x2          8.495e+07   3.72e+06     22.816      0.000    7.76e+07    9.23e+07\n",
       "==============================================================================\n",
       "Omnibus:                       89.958   Durbin-Watson:                   0.352\n",
       "Prob(Omnibus):                  0.000   Jarque-Bera (JB):              279.396\n",
       "Skew:                           1.132   Prob(JB):                     2.14e-61\n",
       "Kurtosis:                       6.710   Cond. No.                         804.\n",
       "==============================================================================\n",
       "\n",
       "Notes:\n",
       "[1] Standard Errors assume that the covariance matrix of the errors is correctly specified.\n",
       "\"\"\""
      ]
     },
     "execution_count": 282,
     "metadata": {},
     "output_type": "execute_result"
    }
   ],
   "source": [
    "# Create the subdataframe for easier deal\n",
    "Cartier_5d_p = Cartier_5d[[\"auctionid\", \"bidtime\", \"bid\", \"openbid\"]]\n",
    "Cartier_5d_p.head()\n",
    "data = pd.DataFrame({\"y\": (Cartier_5d_p.bid)**3.4, \"x1\": Cartier_5d_p.bidtime, \"x2\": Cartier_5d_p.openbid})\n",
    "\n",
    "model = smf.ols(\"y ~ x1 + x2\", data)\n",
    "result = model.fit()\n",
    "result.summary()"
   ]
  },
  {
   "cell_type": "markdown",
   "id": "9cc7d247",
   "metadata": {},
   "source": [
    "#### 2st model: $Y = \\beta_0 + \\beta_1 x_1 + \\beta_2 x_2 + \\beta_3 x_1 x_2 $"
   ]
  },
  {
   "cell_type": "code",
   "execution_count": 284,
   "id": "2ad2f676",
   "metadata": {
    "scrolled": false
   },
   "outputs": [
    {
     "data": {
      "text/html": [
       "<table class=\"simpletable\">\n",
       "<caption>OLS Regression Results</caption>\n",
       "<tr>\n",
       "  <th>Dep. Variable:</th>            <td>y</td>        <th>  R-squared:         </th> <td>   0.705</td> \n",
       "</tr>\n",
       "<tr>\n",
       "  <th>Model:</th>                   <td>OLS</td>       <th>  Adj. R-squared:    </th> <td>   0.702</td> \n",
       "</tr>\n",
       "<tr>\n",
       "  <th>Method:</th>             <td>Least Squares</td>  <th>  F-statistic:       </th> <td>   279.4</td> \n",
       "</tr>\n",
       "<tr>\n",
       "  <th>Date:</th>             <td>Mon, 04 Jul 2022</td> <th>  Prob (F-statistic):</th> <td>1.23e-92</td> \n",
       "</tr>\n",
       "<tr>\n",
       "  <th>Time:</th>                 <td>13:00:36</td>     <th>  Log-Likelihood:    </th> <td> -8975.3</td> \n",
       "</tr>\n",
       "<tr>\n",
       "  <th>No. Observations:</th>      <td>   355</td>      <th>  AIC:               </th> <td>1.796e+04</td>\n",
       "</tr>\n",
       "<tr>\n",
       "  <th>Df Residuals:</th>          <td>   351</td>      <th>  BIC:               </th> <td>1.797e+04</td>\n",
       "</tr>\n",
       "<tr>\n",
       "  <th>Df Model:</th>              <td>     3</td>      <th>                     </th>     <td> </td>    \n",
       "</tr>\n",
       "<tr>\n",
       "  <th>Covariance Type:</th>      <td>nonrobust</td>    <th>                     </th>     <td> </td>    \n",
       "</tr>\n",
       "</table>\n",
       "<table class=\"simpletable\">\n",
       "<tr>\n",
       "      <td></td>         <th>coef</th>     <th>std err</th>      <th>t</th>      <th>P>|t|</th>  <th>[0.025</th>    <th>0.975]</th>  \n",
       "</tr>\n",
       "<tr>\n",
       "  <th>Intercept</th> <td> 4.156e+08</td> <td> 2.42e+09</td> <td>    0.172</td> <td> 0.864</td> <td>-4.34e+09</td> <td> 5.18e+09</td>\n",
       "</tr>\n",
       "<tr>\n",
       "  <th>x1</th>        <td> 1.763e+09</td> <td> 7.47e+08</td> <td>    2.360</td> <td> 0.019</td> <td> 2.94e+08</td> <td> 3.23e+09</td>\n",
       "</tr>\n",
       "<tr>\n",
       "  <th>x2</th>        <td>-5.195e+07</td> <td> 1.66e+07</td> <td>   -3.121</td> <td> 0.002</td> <td>-8.47e+07</td> <td>-1.92e+07</td>\n",
       "</tr>\n",
       "<tr>\n",
       "  <th>x1:x2</th>     <td> 3.056e+07</td> <td> 3.64e+06</td> <td>    8.400</td> <td> 0.000</td> <td> 2.34e+07</td> <td> 3.77e+07</td>\n",
       "</tr>\n",
       "</table>\n",
       "<table class=\"simpletable\">\n",
       "<tr>\n",
       "  <th>Omnibus:</th>       <td>104.979</td> <th>  Durbin-Watson:     </th> <td>   0.369</td>\n",
       "</tr>\n",
       "<tr>\n",
       "  <th>Prob(Omnibus):</th> <td> 0.000</td>  <th>  Jarque-Bera (JB):  </th> <td> 326.638</td>\n",
       "</tr>\n",
       "<tr>\n",
       "  <th>Skew:</th>          <td> 1.331</td>  <th>  Prob(JB):          </th> <td>1.18e-71</td>\n",
       "</tr>\n",
       "<tr>\n",
       "  <th>Kurtosis:</th>      <td> 6.873</td>  <th>  Cond. No.          </th> <td>3.89e+03</td>\n",
       "</tr>\n",
       "</table><br/><br/>Notes:<br/>[1] Standard Errors assume that the covariance matrix of the errors is correctly specified.<br/>[2] The condition number is large, 3.89e+03. This might indicate that there are<br/>strong multicollinearity or other numerical problems."
      ],
      "text/plain": [
       "<class 'statsmodels.iolib.summary.Summary'>\n",
       "\"\"\"\n",
       "                            OLS Regression Results                            \n",
       "==============================================================================\n",
       "Dep. Variable:                      y   R-squared:                       0.705\n",
       "Model:                            OLS   Adj. R-squared:                  0.702\n",
       "Method:                 Least Squares   F-statistic:                     279.4\n",
       "Date:                Mon, 04 Jul 2022   Prob (F-statistic):           1.23e-92\n",
       "Time:                        13:00:36   Log-Likelihood:                -8975.3\n",
       "No. Observations:                 355   AIC:                         1.796e+04\n",
       "Df Residuals:                     351   BIC:                         1.797e+04\n",
       "Df Model:                           3                                         \n",
       "Covariance Type:            nonrobust                                         \n",
       "==============================================================================\n",
       "                 coef    std err          t      P>|t|      [0.025      0.975]\n",
       "------------------------------------------------------------------------------\n",
       "Intercept   4.156e+08   2.42e+09      0.172      0.864   -4.34e+09    5.18e+09\n",
       "x1          1.763e+09   7.47e+08      2.360      0.019    2.94e+08    3.23e+09\n",
       "x2         -5.195e+07   1.66e+07     -3.121      0.002   -8.47e+07   -1.92e+07\n",
       "x1:x2       3.056e+07   3.64e+06      8.400      0.000    2.34e+07    3.77e+07\n",
       "==============================================================================\n",
       "Omnibus:                      104.979   Durbin-Watson:                   0.369\n",
       "Prob(Omnibus):                  0.000   Jarque-Bera (JB):              326.638\n",
       "Skew:                           1.331   Prob(JB):                     1.18e-71\n",
       "Kurtosis:                       6.873   Cond. No.                     3.89e+03\n",
       "==============================================================================\n",
       "\n",
       "Notes:\n",
       "[1] Standard Errors assume that the covariance matrix of the errors is correctly specified.\n",
       "[2] The condition number is large, 3.89e+03. This might indicate that there are\n",
       "strong multicollinearity or other numerical problems.\n",
       "\"\"\""
      ]
     },
     "execution_count": 284,
     "metadata": {},
     "output_type": "execute_result"
    }
   ],
   "source": [
    "# Create the subdataframe for easier deal\n",
    "Cartier_5d_p = Cartier_5d[[\"auctionid\", \"bidtime\", \"bid\", \"openbid\"]]\n",
    "Cartier_5d_p.head()\n",
    "data = pd.DataFrame({\"y\": (Cartier_5d_p.bid)**3.4, \"x1\": Cartier_5d_p.bidtime, \"x2\": Cartier_5d_p.openbid})\n",
    "\n",
    "model = smf.ols(\"y ~ x1 + x2 + x1*x2\", data)\n",
    "result = model.fit()\n",
    "result.summary()"
   ]
  },
  {
   "cell_type": "code",
   "execution_count": 285,
   "id": "d254463b",
   "metadata": {
    "scrolled": false
   },
   "outputs": [
    {
     "data": {
      "image/png": "[encoded data removed]",
      "text/plain": [
       "<Figure size 576x288 with 1 Axes>"
      ]
     },
     "metadata": {
      "needs_background": "light"
     },
     "output_type": "display_data"
    }
   ],
   "source": [
    "fig, ax = plt.subplots(figsize=(8, 4))\n",
    "smg.qqplot(result.resid, ax=ax)\n",
    "fig.tight_layout()"
   ]
  },
  {
   "cell_type": "code",
   "execution_count": 287,
   "id": "b644c1ba",
   "metadata": {
    "scrolled": false
   },
   "outputs": [
    {
     "data": {
      "text/plain": [
       "Intercept    4.155728e+08\n",
       "x1           1.763410e+09\n",
       "x2          -5.195271e+07\n",
       "x1:x2        3.056457e+07\n",
       "dtype: float64"
      ]
     },
     "execution_count": 287,
     "metadata": {},
     "output_type": "execute_result"
    }
   ],
   "source": [
    "result.params"
   ]
  },
  {
   "cell_type": "code",
   "execution_count": null,
   "id": "19926b29",
   "metadata": {},
   "outputs": [],
   "source": []
  },
  {
   "cell_type": "markdown",
   "id": "f90ca2ac",
   "metadata": {},
   "source": [
    "## 7 Days Auction"
   ]
  },
  {
   "cell_type": "code",
   "execution_count": 276,
   "id": "abd13913",
   "metadata": {},
   "outputs": [],
   "source": [
    "Cartier_7d = pd.read_csv(\"Cartier+7-day+auctions.csv\")\n",
    "Cartier_7d_i = Cartier_7d.set_index([\"auctionid\", \"bidtime\"]).sort_index(level=0)\n",
    "# Cartier_7d.info()\n",
    "# Cartier_7d_i.head()"
   ]
  },
  {
   "cell_type": "code",
   "execution_count": 253,
   "id": "85c673b9",
   "metadata": {
    "scrolled": true
   },
   "outputs": [
    {
     "data": {
      "text/html": [
       "<table class=\"simpletable\">\n",
       "<caption>OLS Regression Results</caption>\n",
       "<tr>\n",
       "  <th>Dep. Variable:</th>            <td>y</td>        <th>  R-squared:         </th> <td>   0.617</td> \n",
       "</tr>\n",
       "<tr>\n",
       "  <th>Model:</th>                   <td>OLS</td>       <th>  Adj. R-squared:    </th> <td>   0.617</td> \n",
       "</tr>\n",
       "<tr>\n",
       "  <th>Method:</th>             <td>Least Squares</td>  <th>  F-statistic:       </th> <td>   722.8</td> \n",
       "</tr>\n",
       "<tr>\n",
       "  <th>Date:</th>             <td>Mon, 04 Jul 2022</td> <th>  Prob (F-statistic):</th> <td>9.97e-280</td>\n",
       "</tr>\n",
       "<tr>\n",
       "  <th>Time:</th>                 <td>12:41:15</td>     <th>  Log-Likelihood:    </th> <td> -34410.</td> \n",
       "</tr>\n",
       "<tr>\n",
       "  <th>No. Observations:</th>      <td>  1348</td>      <th>  AIC:               </th> <td>6.883e+04</td>\n",
       "</tr>\n",
       "<tr>\n",
       "  <th>Df Residuals:</th>          <td>  1344</td>      <th>  BIC:               </th> <td>6.885e+04</td>\n",
       "</tr>\n",
       "<tr>\n",
       "  <th>Df Model:</th>              <td>     3</td>      <th>                     </th>     <td> </td>    \n",
       "</tr>\n",
       "<tr>\n",
       "  <th>Covariance Type:</th>      <td>nonrobust</td>    <th>                     </th>     <td> </td>    \n",
       "</tr>\n",
       "</table>\n",
       "<table class=\"simpletable\">\n",
       "<tr>\n",
       "      <td></td>         <th>coef</th>     <th>std err</th>      <th>t</th>      <th>P>|t|</th>  <th>[0.025</th>    <th>0.975]</th>  \n",
       "</tr>\n",
       "<tr>\n",
       "  <th>Intercept</th> <td> 4.586e+09</td> <td> 1.67e+09</td> <td>    2.745</td> <td> 0.006</td> <td> 1.31e+09</td> <td> 7.86e+09</td>\n",
       "</tr>\n",
       "<tr>\n",
       "  <th>x1</th>        <td>-1.961e+09</td> <td> 3.49e+08</td> <td>   -5.612</td> <td> 0.000</td> <td>-2.65e+09</td> <td>-1.28e+09</td>\n",
       "</tr>\n",
       "<tr>\n",
       "  <th>x2</th>        <td>-2.043e+07</td> <td>  7.8e+06</td> <td>   -2.620</td> <td> 0.009</td> <td>-3.57e+07</td> <td>-5.14e+06</td>\n",
       "</tr>\n",
       "<tr>\n",
       "  <th>x1:x2</th>     <td> 1.919e+07</td> <td> 1.25e+06</td> <td>   15.405</td> <td> 0.000</td> <td> 1.67e+07</td> <td> 2.16e+07</td>\n",
       "</tr>\n",
       "</table>\n",
       "<table class=\"simpletable\">\n",
       "<tr>\n",
       "  <th>Omnibus:</th>       <td>871.479</td> <th>  Durbin-Watson:     </th> <td>   0.473</td> \n",
       "</tr>\n",
       "<tr>\n",
       "  <th>Prob(Omnibus):</th> <td> 0.000</td>  <th>  Jarque-Bera (JB):  </th> <td>55224.499</td>\n",
       "</tr>\n",
       "<tr>\n",
       "  <th>Skew:</th>          <td> 2.266</td>  <th>  Prob(JB):          </th> <td>    0.00</td> \n",
       "</tr>\n",
       "<tr>\n",
       "  <th>Kurtosis:</th>      <td>34.027</td>  <th>  Cond. No.          </th> <td>5.33e+03</td> \n",
       "</tr>\n",
       "</table><br/><br/>Notes:<br/>[1] Standard Errors assume that the covariance matrix of the errors is correctly specified.<br/>[2] The condition number is large, 5.33e+03. This might indicate that there are<br/>strong multicollinearity or other numerical problems."
      ],
      "text/plain": [
       "<class 'statsmodels.iolib.summary.Summary'>\n",
       "\"\"\"\n",
       "                            OLS Regression Results                            \n",
       "==============================================================================\n",
       "Dep. Variable:                      y   R-squared:                       0.617\n",
       "Model:                            OLS   Adj. R-squared:                  0.617\n",
       "Method:                 Least Squares   F-statistic:                     722.8\n",
       "Date:                Mon, 04 Jul 2022   Prob (F-statistic):          9.97e-280\n",
       "Time:                        12:41:15   Log-Likelihood:                -34410.\n",
       "No. Observations:                1348   AIC:                         6.883e+04\n",
       "Df Residuals:                    1344   BIC:                         6.885e+04\n",
       "Df Model:                           3                                         \n",
       "Covariance Type:            nonrobust                                         \n",
       "==============================================================================\n",
       "                 coef    std err          t      P>|t|      [0.025      0.975]\n",
       "------------------------------------------------------------------------------\n",
       "Intercept   4.586e+09   1.67e+09      2.745      0.006    1.31e+09    7.86e+09\n",
       "x1         -1.961e+09   3.49e+08     -5.612      0.000   -2.65e+09   -1.28e+09\n",
       "x2         -2.043e+07    7.8e+06     -2.620      0.009   -3.57e+07   -5.14e+06\n",
       "x1:x2       1.919e+07   1.25e+06     15.405      0.000    1.67e+07    2.16e+07\n",
       "==============================================================================\n",
       "Omnibus:                      871.479   Durbin-Watson:                   0.473\n",
       "Prob(Omnibus):                  0.000   Jarque-Bera (JB):            55224.499\n",
       "Skew:                           2.266   Prob(JB):                         0.00\n",
       "Kurtosis:                      34.027   Cond. No.                     5.33e+03\n",
       "==============================================================================\n",
       "\n",
       "Notes:\n",
       "[1] Standard Errors assume that the covariance matrix of the errors is correctly specified.\n",
       "[2] The condition number is large, 5.33e+03. This might indicate that there are\n",
       "strong multicollinearity or other numerical problems.\n",
       "\"\"\""
      ]
     },
     "execution_count": 253,
     "metadata": {},
     "output_type": "execute_result"
    }
   ],
   "source": [
    "# Create the subdataframe for easier deal\n",
    "Cartier_7d_p = Cartier_7d[[\"auctionid\", \"bidtime\", \"bid\", \"openbid\"]]\n",
    "Cartier_7d_p.head()\n",
    "data = pd.DataFrame({\"y\": (Cartier_7d_p.bid)**3.2, \"x1\": Cartier_7d_p.bidtime, \"x2\": Cartier_7d_p.openbid})\n",
    "\n",
    "model = smf.ols(\"y ~ x1 + x2 + x1*x2\", data)\n",
    "result = model.fit()\n",
    "result.summary()"
   ]
  },
  {
   "cell_type": "code",
   "execution_count": 254,
   "id": "024c849d",
   "metadata": {
    "scrolled": true
   },
   "outputs": [
    {
     "data": {
      "image/png": "[encoded data removed]",
      "text/plain": [
       "<Figure size 576x288 with 1 Axes>"
      ]
     },
     "metadata": {
      "needs_background": "light"
     },
     "output_type": "display_data"
    }
   ],
   "source": [
    "fig, ax = plt.subplots(figsize=(8, 4))\n",
    "smg.qqplot(result.resid, ax=ax)\n",
    "fig.tight_layout()"
   ]
  },
  {
   "cell_type": "code",
   "execution_count": null,
   "id": "44fe5539",
   "metadata": {},
   "outputs": [],
   "source": []
  },
  {
   "cell_type": "markdown",
   "id": "73137331",
   "metadata": {},
   "source": [
    "# Appendix"
   ]
  },
  {
   "cell_type": "code",
   "execution_count": null,
   "id": "d6d24fb9",
   "metadata": {},
   "outputs": [],
   "source": [
    "# Process to find and drop the error data\n",
    "pre_bid = 15\n",
    "i = 1\n",
    "if a.iloc[i].bid<pre_bid:\n",
    "    print(i)\n",
    "    a.drop([i-1], inplace=False)     # a.index[i] is the absolute sequence, only [i] is the index of the data frame\n",
    "    \n",
    "# Method to drop the error data rows\n",
    "def drop_error(a, i=1):\n",
    "    \n",
    "    if a.iloc[i].bid<a.iloc[i-1].bid:   # a.iloc[i] the i-th row of dataframe\n",
    "#         print(i)        \n",
    "        a.drop([i-1], inplace=True)     # a.index[i] is the absolute sequence, only [i] is the index of the data frame\n",
    "       \n",
    "    i = i+1\n",
    "    \n",
    "    if i == len(a):\n",
    "        return a\n",
    "    drop_error(a, i)\n",
    "    \n",
    "# Test if the method drop_error work\n",
    "temp = pd.DataFrame(grouped.get_group(1650483277))\n",
    "temp = temp.reset_index(drop = True)\n",
    "\n",
    "# drop_error(temp)\n",
    "# temp"
   ]
  },
  {
   "cell_type": "code",
   "execution_count": 261,
   "id": "28236916",
   "metadata": {
    "scrolled": true
   },
   "outputs": [
    {
     "data": {
      "text/html": [
       "<div>\n",
       "<style scoped>\n",
       "    .dataframe tbody tr th:only-of-type {\n",
       "        vertical-align: middle;\n",
       "    }\n",
       "\n",
       "    .dataframe tbody tr th {\n",
       "        vertical-align: top;\n",
       "    }\n",
       "\n",
       "    .dataframe thead th {\n",
       "        text-align: right;\n",
       "    }\n",
       "</style>\n",
       "<table border=\"1\" class=\"dataframe\">\n",
       "  <thead>\n",
       "    <tr style=\"text-align: right;\">\n",
       "      <th></th>\n",
       "      <th>auctionid</th>\n",
       "      <th>bidtime</th>\n",
       "      <th>bid</th>\n",
       "      <th>openbid</th>\n",
       "    </tr>\n",
       "  </thead>\n",
       "  <tbody>\n",
       "    <tr>\n",
       "      <th>0</th>\n",
       "      <td>1638893549</td>\n",
       "      <td>2.230949</td>\n",
       "      <td>175.0</td>\n",
       "      <td>99.0</td>\n",
       "    </tr>\n",
       "    <tr>\n",
       "      <th>1</th>\n",
       "      <td>1638893549</td>\n",
       "      <td>2.600116</td>\n",
       "      <td>100.0</td>\n",
       "      <td>99.0</td>\n",
       "    </tr>\n",
       "    <tr>\n",
       "      <th>2</th>\n",
       "      <td>1638893549</td>\n",
       "      <td>2.600810</td>\n",
       "      <td>120.0</td>\n",
       "      <td>99.0</td>\n",
       "    </tr>\n",
       "    <tr>\n",
       "      <th>3</th>\n",
       "      <td>1638893549</td>\n",
       "      <td>2.601076</td>\n",
       "      <td>150.0</td>\n",
       "      <td>99.0</td>\n",
       "    </tr>\n",
       "    <tr>\n",
       "      <th>4</th>\n",
       "      <td>1638893549</td>\n",
       "      <td>2.909826</td>\n",
       "      <td>177.5</td>\n",
       "      <td>99.0</td>\n",
       "    </tr>\n",
       "  </tbody>\n",
       "</table>\n",
       "</div>"
      ],
      "text/plain": [
       "    auctionid   bidtime    bid  openbid\n",
       "0  1638893549  2.230949  175.0     99.0\n",
       "1  1638893549  2.600116  100.0     99.0\n",
       "2  1638893549  2.600810  120.0     99.0\n",
       "3  1638893549  2.601076  150.0     99.0\n",
       "4  1638893549  2.909826  177.5     99.0"
      ]
     },
     "execution_count": 261,
     "metadata": {},
     "output_type": "execute_result"
    }
   ],
   "source": [
    "# Create the subdataframe for easier deal\n",
    "Cartier_3d_p = Cartier_3d[[\"auctionid\", \"bidtime\", \"bid\", \"openbid\"]]\n",
    "Cartier_3d_p.head()\n",
    "\n",
    "# Get the number of auction and put auction_id into a list (useful to sort the data)\n",
    "count = Cartier_3d_p[\"auctionid\"].value_counts()\n",
    "aucList = list(count.index)\n",
    "\n",
    "# Group the dataframe\n",
    "grouped = Cartier_3d_p.groupby(Cartier_3d_p.auctionid)\n",
    "\n",
    "group_3d = []\n",
    "\n",
    "for g in aucList:\n",
    "    \n",
    "    temp = pd.DataFrame(grouped.get_group(g))\n",
    "    temp = temp.reset_index(drop = True)\n",
    "#     print(g)\n",
    "#     drop_error(temp)\n",
    "    group_3d.append(temp)\n",
    "    \n",
    "# Find R-squared for every single model\n",
    "rs_3d = []\n",
    "for i in group_3d:\n",
    "    data = pd.DataFrame({\"y\": np.log(i.bid), \"x1\": i.bidtime, \"x2\": i.openbid})\n",
    "    \n",
    "    model = smf.ols(\"y ~ x1 + x2\", data)\n",
    "    result = model.fit()\n",
    "    rs_3d.append(result.rsquared)\n",
    "\n",
    "# Plot a diagram for the R-squared\n",
    "# plt.bar(np.arange(len(rs)), rs)"
   ]
  }
 ],
 "metadata": {
  "kernelspec": {
   "display_name": "Python 3 (ipykernel)",
   "language": "python",
   "name": "python3"
  },
  "language_info": {
   "codemirror_mode": {
    "name": "ipython",
    "version": 3
   },
   "file_extension": ".py",
   "mimetype": "text/x-python",
   "name": "python",
   "nbconvert_exporter": "python",
   "pygments_lexer": "ipython3",
   "version": "3.9.12"
  }
 },
 "nbformat": 4,
 "nbformat_minor": 5
}
